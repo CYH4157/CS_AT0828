{
 "cells": [
  {
   "cell_type": "markdown",
   "metadata": {},
   "source": [
    "## HW3: Decision Tree, AdaBoost and Random Forest\n",
    "In hw3, you need to implement decision tree, adaboost and random forest by using only numpy, then train your implemented model by the provided dataset and test the performance with testing data\n",
    "\n",
    "Please note that only **NUMPY** can be used to implement your model, you will get no points by simply calling sklearn.tree.DecisionTreeClassifier"
   ]
  },
  {
   "cell_type": "markdown",
   "metadata": {},
   "source": [
    "## Load data\n",
    "The dataset is the Heart Disease Data Set from UCI Machine Learning Repository. It is a binary classifiation dataset, the label is stored in `target` column. **Please note that there exist categorical features which need to be [one-hot encoding](https://www.datacamp.com/community/tutorials/categorical-data) before fit into your model!**\n",
    "See follow links for more information\n",
    "https://archive.ics.uci.edu/ml/datasets/heart+Disease"
   ]
  },
  {
   "cell_type": "code",
   "execution_count": 318,
   "metadata": {},
   "outputs": [],
   "source": [
    "import pandas as pd\n",
    "import numpy as np\n",
    "import matplotlib.pyplot as plt\n",
    "import random\n",
    "\n",
    "file_url = \"http://storage.googleapis.com/download.tensorflow.org/data/heart.csv\"\n",
    "df = pd.read_csv(file_url)\n",
    "df = pd.get_dummies(df, prefix=['thal'])\n",
    "feature_names = df.drop(['target'], axis=1).columns\n",
    "\n",
    "train_idx = np.load('train_idx.npy')\n",
    "test_idx = np.load('test_idx.npy')\n",
    "\n",
    "train_df = df.iloc[train_idx]\n",
    "test_df = df.iloc[test_idx]\n",
    "\n",
    "x_train = train_df.drop(['target'], axis=1).values\n",
    "y_train = train_df['target'].values\n",
    "\n",
    "x_test = test_df.drop(['target'], axis=1).values\n",
    "y_test = test_df['target'].values"
   ]
  },
  {
   "cell_type": "code",
   "execution_count": 319,
   "metadata": {},
   "outputs": [
    {
     "data": {
      "text/html": [
       "<div>\n",
       "<style scoped>\n",
       "    .dataframe tbody tr th:only-of-type {\n",
       "        vertical-align: middle;\n",
       "    }\n",
       "\n",
       "    .dataframe tbody tr th {\n",
       "        vertical-align: top;\n",
       "    }\n",
       "\n",
       "    .dataframe thead th {\n",
       "        text-align: right;\n",
       "    }\n",
       "</style>\n",
       "<table border=\"1\" class=\"dataframe\">\n",
       "  <thead>\n",
       "    <tr style=\"text-align: right;\">\n",
       "      <th></th>\n",
       "      <th>age</th>\n",
       "      <th>sex</th>\n",
       "      <th>cp</th>\n",
       "      <th>trestbps</th>\n",
       "      <th>chol</th>\n",
       "      <th>fbs</th>\n",
       "      <th>restecg</th>\n",
       "      <th>thalach</th>\n",
       "      <th>exang</th>\n",
       "      <th>oldpeak</th>\n",
       "      <th>slope</th>\n",
       "      <th>ca</th>\n",
       "      <th>target</th>\n",
       "      <th>thal_1</th>\n",
       "      <th>thal_2</th>\n",
       "      <th>thal_fixed</th>\n",
       "      <th>thal_normal</th>\n",
       "      <th>thal_reversible</th>\n",
       "    </tr>\n",
       "  </thead>\n",
       "  <tbody>\n",
       "    <tr>\n",
       "      <th>136</th>\n",
       "      <td>54</td>\n",
       "      <td>1</td>\n",
       "      <td>2</td>\n",
       "      <td>192</td>\n",
       "      <td>283</td>\n",
       "      <td>0</td>\n",
       "      <td>2</td>\n",
       "      <td>195</td>\n",
       "      <td>0</td>\n",
       "      <td>0.0</td>\n",
       "      <td>1</td>\n",
       "      <td>1</td>\n",
       "      <td>0</td>\n",
       "      <td>0</td>\n",
       "      <td>0</td>\n",
       "      <td>0</td>\n",
       "      <td>0</td>\n",
       "      <td>1</td>\n",
       "    </tr>\n",
       "    <tr>\n",
       "      <th>232</th>\n",
       "      <td>58</td>\n",
       "      <td>0</td>\n",
       "      <td>4</td>\n",
       "      <td>170</td>\n",
       "      <td>225</td>\n",
       "      <td>1</td>\n",
       "      <td>2</td>\n",
       "      <td>146</td>\n",
       "      <td>1</td>\n",
       "      <td>2.8</td>\n",
       "      <td>2</td>\n",
       "      <td>2</td>\n",
       "      <td>1</td>\n",
       "      <td>0</td>\n",
       "      <td>0</td>\n",
       "      <td>1</td>\n",
       "      <td>0</td>\n",
       "      <td>0</td>\n",
       "    </tr>\n",
       "    <tr>\n",
       "      <th>233</th>\n",
       "      <td>56</td>\n",
       "      <td>1</td>\n",
       "      <td>2</td>\n",
       "      <td>130</td>\n",
       "      <td>221</td>\n",
       "      <td>0</td>\n",
       "      <td>2</td>\n",
       "      <td>163</td>\n",
       "      <td>0</td>\n",
       "      <td>0.0</td>\n",
       "      <td>1</td>\n",
       "      <td>0</td>\n",
       "      <td>0</td>\n",
       "      <td>0</td>\n",
       "      <td>0</td>\n",
       "      <td>0</td>\n",
       "      <td>0</td>\n",
       "      <td>1</td>\n",
       "    </tr>\n",
       "    <tr>\n",
       "      <th>184</th>\n",
       "      <td>46</td>\n",
       "      <td>1</td>\n",
       "      <td>4</td>\n",
       "      <td>120</td>\n",
       "      <td>249</td>\n",
       "      <td>0</td>\n",
       "      <td>2</td>\n",
       "      <td>144</td>\n",
       "      <td>0</td>\n",
       "      <td>0.8</td>\n",
       "      <td>1</td>\n",
       "      <td>0</td>\n",
       "      <td>0</td>\n",
       "      <td>0</td>\n",
       "      <td>0</td>\n",
       "      <td>0</td>\n",
       "      <td>0</td>\n",
       "      <td>1</td>\n",
       "    </tr>\n",
       "    <tr>\n",
       "      <th>84</th>\n",
       "      <td>55</td>\n",
       "      <td>0</td>\n",
       "      <td>2</td>\n",
       "      <td>135</td>\n",
       "      <td>250</td>\n",
       "      <td>0</td>\n",
       "      <td>2</td>\n",
       "      <td>161</td>\n",
       "      <td>0</td>\n",
       "      <td>1.4</td>\n",
       "      <td>2</td>\n",
       "      <td>0</td>\n",
       "      <td>0</td>\n",
       "      <td>0</td>\n",
       "      <td>0</td>\n",
       "      <td>0</td>\n",
       "      <td>1</td>\n",
       "      <td>0</td>\n",
       "    </tr>\n",
       "  </tbody>\n",
       "</table>\n",
       "</div>"
      ],
      "text/plain": [
       "     age  sex  cp  trestbps  chol  fbs  restecg  thalach  exang  oldpeak  \\\n",
       "136   54    1   2       192   283    0        2      195      0      0.0   \n",
       "232   58    0   4       170   225    1        2      146      1      2.8   \n",
       "233   56    1   2       130   221    0        2      163      0      0.0   \n",
       "184   46    1   4       120   249    0        2      144      0      0.8   \n",
       "84    55    0   2       135   250    0        2      161      0      1.4   \n",
       "\n",
       "     slope  ca  target  thal_1  thal_2  thal_fixed  thal_normal  \\\n",
       "136      1   1       0       0       0           0            0   \n",
       "232      2   2       1       0       0           1            0   \n",
       "233      1   0       0       0       0           0            0   \n",
       "184      1   0       0       0       0           0            0   \n",
       "84       2   0       0       0       0           0            1   \n",
       "\n",
       "     thal_reversible  \n",
       "136                1  \n",
       "232                0  \n",
       "233                1  \n",
       "184                1  \n",
       "84                 0  "
      ]
     },
     "execution_count": 319,
     "metadata": {},
     "output_type": "execute_result"
    }
   ],
   "source": [
    "train_df.head()"
   ]
  },
  {
   "cell_type": "markdown",
   "metadata": {},
   "source": [
    "## Question 1\n",
    "Gini Index or Entropy is often used for measuring the “best” splitting of the data. Please compute the Entropy and Gini Index of provided data. Please use the formula from [page 5 of hw3 slides](https://docs.google.com/presentation/d/1kIe_-YZdemRMmr_3xDy-l0OS2EcLgDH7Uan14tlU5KE/edit#slide=id.gd542a5ff75_0_15)"
   ]
  },
  {
   "cell_type": "code",
   "execution_count": 320,
   "metadata": {},
   "outputs": [],
   "source": [
    "def gini(y):\n",
    "    \"\"\"\n",
    "    Gini impurity (local entropy) of a label sequence\n",
    "    \"\"\"\n",
    "    hist = np.bincount(y)\n",
    "    N = np.sum(hist)\n",
    "    return 1 - sum([(i / N) ** 2 for i in hist])\n",
    "\n",
    "\n",
    "def entropy(y):\n",
    "    \"\"\"\n",
    "    Entropy of a label sequence\n",
    "    \"\"\"\n",
    "    hist = np.bincount(y)\n",
    "    ps = hist / np.sum(hist)\n",
    "    return -np.sum([p * np.log2(p) for p in ps if p > 0])"
   ]
  },
  {
   "cell_type": "code",
   "execution_count": 321,
   "metadata": {},
   "outputs": [],
   "source": [
    "# 1 = class 1,\n",
    "# 2 = class 2\n",
    "data = np.array([1, 2, 1, 1, 1, 1, 2, 2, 1, 1, 2])"
   ]
  },
  {
   "cell_type": "code",
   "execution_count": 322,
   "metadata": {},
   "outputs": [
    {
     "name": "stdout",
     "output_type": "stream",
     "text": [
      "Gini of data is  0.4628099173553719\n"
     ]
    }
   ],
   "source": [
    "print(\"Gini of data is \", gini(data))"
   ]
  },
  {
   "cell_type": "code",
   "execution_count": 323,
   "metadata": {},
   "outputs": [
    {
     "name": "stdout",
     "output_type": "stream",
     "text": [
      "Entropy of data is  0.9456603046006401\n"
     ]
    }
   ],
   "source": [
    "print(\"Entropy of data is \", entropy(data))"
   ]
  },
  {
   "cell_type": "markdown",
   "metadata": {},
   "source": [
    "## Question 2\n",
    "Implement the Decision Tree algorithm (CART, Classification and Regression Trees) and trained the model by the given arguments, and print the accuracy score on the test data. You should implement two arguments for the Decision Tree algorithm\n",
    "1. **criterion**: The function to measure the quality of a split. Your model should support `gini` for the Gini impurity and `entropy` for the information gain. \n",
    "2. **max_depth**: The maximum depth of the tree. If `max_depth=None`, then nodes are expanded until all leaves are pure. `max_depth=1` equals to split data once\n"
   ]
  },
  {
   "cell_type": "code",
   "execution_count": 324,
   "metadata": {},
   "outputs": [],
   "source": [
    "class DecisionTree:\n",
    "    def __init__(\n",
    "        self,\n",
    "        classifier=True,\n",
    "        max_depth=None,\n",
    "        max_features=None,\n",
    "        criterion=\"entropy\",\n",
    "        seed=None,\n",
    "    ):\n",
    "        if seed:\n",
    "            np.random.seed(seed)\n",
    "        self.depth = 0\n",
    "        self.root = None\n",
    "        self.max_features = max_features\n",
    "        self.criterion = criterion\n",
    "        self.classifier = classifier\n",
    "        self.max_depth = max_depth if max_depth else np.inf\n",
    "        self.feature_values = []\n",
    "        if not classifier and criterion in [\"gini\", \"entropy\"]:\n",
    "            raise ValueError(\n",
    "                \"{} is a valid criterion only when classifier = True.\".format(criterion)\n",
    "            )\n",
    "        if classifier and criterion == \"mse\":\n",
    "            raise ValueError(\"`mse` is a valid criterion only when classifier = False.\")\n",
    "\n",
    "    def fit(self, X, Y):\n",
    "        self.n_classes = max(Y) + 1 if self.classifier else None\n",
    "        self.max_features = X.shape[1] if not self.max_features else min(self.max_features, X.shape[1])\n",
    "        self.root = self._grow(X, Y)\n",
    "\n",
    "    def predict(self, X):   \n",
    "        return np.array([self._traverse(x, self.root) for x in X])\n",
    "\n",
    "    def predict_class_probs(self, X):\n",
    "        \"\"\"\n",
    "        Use the trained decision tree to return the class probabilities for the\n",
    "        examples in `X`.\n",
    "        Parameters\n",
    "        ----------\n",
    "        X : :py:class:`ndarray <numpy.ndarray>` of shape `(N, M)`\n",
    "            The training data of `N` examples, each with `M` features\n",
    "        Returns\n",
    "        -------\n",
    "        preds : :py:class:`ndarray <numpy.ndarray>` of shape `(N, n_classes)`\n",
    "            The class probabilities predicted for each example in `X`.\n",
    "        \"\"\"\n",
    "        assert self.classifier, \"`predict_class_probs` undefined for classifier = False\"\n",
    "        return np.array([self._traverse(x, self.root, prob=True) for x in X])\n",
    "\n",
    "    def _grow(self, X, Y, cur_depth=0):\n",
    "        # if all labels are the same, return a leaf\n",
    "        if len(set(Y)) == 1:\n",
    "            if self.classifier:\n",
    "                prob = np.zeros(self.n_classes)\n",
    "                prob[Y[0]] = 1.0\n",
    "            return Leaf(prob) if self.classifier else Leaf(Y[0])\n",
    "\n",
    "        # if we have reached max_depth, return a leaf\n",
    "        if cur_depth >= self.max_depth:\n",
    "            v = np.mean(Y, axis=0)\n",
    "            if self.classifier:\n",
    "                v = np.bincount(Y, minlength=self.n_classes) / len(Y)\n",
    "            return Leaf(v)\n",
    "\n",
    "        cur_depth += 1\n",
    "        self.depth = max(self.depth, cur_depth)\n",
    "\n",
    "        N, M = X.shape\n",
    "        feat_idxs = np.random.choice(M, self.max_features, replace=False)\n",
    "\n",
    "        # greedily select the best split according to `criterion`\n",
    "        feat, thresh = self._segment(X, Y, feat_idxs)\n",
    "        self.feature_values.append(feat)\n",
    "        l = np.argwhere(X[:, feat] <= thresh).flatten()\n",
    "        r = np.argwhere(X[:, feat] > thresh).flatten()\n",
    "\n",
    "        # grow the children that result from the split\n",
    "        left = self._grow(X[l, :], Y[l], cur_depth)\n",
    "        right = self._grow(X[r, :], Y[r], cur_depth)\n",
    "        return Node(left, right, (feat, thresh))\n",
    "\n",
    "    def _segment(self, X, Y, feat_idxs):\n",
    "        \"\"\"\n",
    "        Find the optimal split rule (feature index and split threshold) for the\n",
    "        data according to `self.criterion`.\n",
    "        \"\"\"\n",
    "        best_gain = -np.inf\n",
    "        split_idx, split_thresh = None, None\n",
    "        for i in feat_idxs:\n",
    "            vals = X[:, i]    \n",
    "            levels = np.unique(vals)\n",
    "            thresholds = (levels[:-1] + levels[1:]) / 2 if len(levels) > 1 else levels\n",
    "            gains = np.array([self._impurity_gain(Y, t, vals) for t in thresholds])\n",
    "            if gains.max() > best_gain:\n",
    "                split_idx = i\n",
    "                best_gain = gains.max()\n",
    "                split_thresh = thresholds[gains.argmax()]\n",
    "        return split_idx, split_thresh\n",
    "\n",
    "    def _impurity_gain(self, Y, split_thresh, feat_values):\n",
    "        \"\"\"\n",
    "        Compute the impurity gain associated with a given split.\n",
    "        IG(split) = loss(parent) - weighted_avg[loss(left_child), loss(right_child)]\n",
    "        \"\"\"\n",
    "        if self.criterion == \"entropy\":\n",
    "            loss = entropy\n",
    "        elif self.criterion == \"gini\":\n",
    "            loss = gini\n",
    "        parent_loss = loss(Y)\n",
    "\n",
    "        # generate split\n",
    "        left = np.argwhere(feat_values <= split_thresh).flatten()\n",
    "        right = np.argwhere(feat_values > split_thresh).flatten()\n",
    "\n",
    "        if len(left) == 0 or len(right) == 0:\n",
    "            return 0\n",
    "\n",
    "        # compute the weighted avg. of the loss for the children\n",
    "        n = len(Y)\n",
    "        n_l, n_r = len(left), len(right)\n",
    "        e_l, e_r = loss(Y[left]), loss(Y[right])\n",
    "        child_loss = (n_l / n) * e_l + (n_r / n) * e_r\n",
    "\n",
    "        # impurity gain is difference in loss before vs. after split\n",
    "        ig = parent_loss - child_loss\n",
    "        return ig\n",
    "\n",
    "    def _traverse(self, X, node, prob=False):\n",
    "        if isinstance(node, Leaf):\n",
    "            if self.classifier:\n",
    "                return node.value if prob else node.value.argmax()\n",
    "            return node.value\n",
    "        if X[node.feature] <= node.threshold:\n",
    "            return self._traverse(X, node.left, prob)\n",
    "        return self._traverse(X, node.right, prob)\n",
    "\n",
    "\n",
    "class Node:\n",
    "    def __init__(self, left, right, rule):\n",
    "        self.left = left\n",
    "        self.right = right\n",
    "        self.feature = rule[0]\n",
    "        self.threshold = rule[1]\n",
    "\n",
    "\n",
    "class Leaf:\n",
    "    def __init__(self, value):\n",
    "        \"\"\"\n",
    "        `value` is an array of class probabilities if classifier is True, else\n",
    "        the mean of the region\n",
    "        \"\"\"\n",
    "        self.value = value\n",
    "\n",
    "\n",
    "def bootstrap_sample(X, Y):\n",
    "    N, M = X.shape\n",
    "    idxs = np.random.choice(N, N, replace=True)\n",
    "    return X[idxs], Y[idxs]\n",
    "\n",
    "\n",
    "def accuracy(y_gt, y_pred):\n",
    "    return np.sum(y_gt == y_pred) / y_gt.shape[0]"
   ]
  },
  {
   "cell_type": "markdown",
   "metadata": {},
   "source": [
    "### Question 2.1\n",
    "Using `criterion=gini`, showing the accuracy score of test data by `max_depth=3` and `max_depth=10`, respectively.\n"
   ]
  },
  {
   "cell_type": "markdown",
   "metadata": {},
   "source": [
    "### Question 2.2\n",
    "Using `max_depth=3`, showing the accuracy score of test data by `criterion=gini` and `criterion=entropy`, respectively.\n"
   ]
  },
  {
   "cell_type": "markdown",
   "metadata": {},
   "source": [
    "- Note: Your decisition tree scores should over **0.7**. It may suffer from overfitting, if so, you can tune the hyperparameter such as `max_depth`\n",
    "- Note: You should get the same results when re-building the model with the same arguments,  no need to prune the trees\n",
    "- Hint: You can use the recursive method to build the nodes\n"
   ]
  },
  {
   "cell_type": "code",
   "execution_count": 325,
   "metadata": {},
   "outputs": [
    {
     "name": "stdout",
     "output_type": "stream",
     "text": [
      "Decision tree\n",
      "criterion = gini\n",
      "max depth = 3\n",
      "acc: 0.78\n"
     ]
    }
   ],
   "source": [
    "tree3 = DecisionTree(max_depth=3, criterion='gini')\n",
    "tree3.fit(x_train, y_train)\n",
    "inference = tree3.predict(x_test)\n",
    "acc = accuracy(y_test, inference)\n",
    "print(\"Decision tree\")\n",
    "print(f'criterion = {tree3.criterion}')\n",
    "print(f'max depth = {tree3.max_depth}')\n",
    "print(\"acc:\", acc)"
   ]
  },
  {
   "cell_type": "code",
   "execution_count": 326,
   "metadata": {},
   "outputs": [
    {
     "name": "stdout",
     "output_type": "stream",
     "text": [
      "Decision tree\n",
      "criterion = gini\n",
      "max depth = 10\n",
      "acc: 0.72\n"
     ]
    }
   ],
   "source": [
    "tree10 = DecisionTree(max_depth=10, criterion='gini')\n",
    "tree10.fit(x_train, y_train)\n",
    "inference = tree10.predict(x_test)\n",
    "acc = accuracy(y_test, inference)\n",
    "print(\"Decision tree\")\n",
    "print(f'criterion = {tree10.criterion}')\n",
    "print(f'max depth = {tree10.max_depth}')\n",
    "print(\"acc:\", acc)"
   ]
  },
  {
   "cell_type": "code",
   "execution_count": 327,
   "metadata": {},
   "outputs": [
    {
     "name": "stdout",
     "output_type": "stream",
     "text": [
      "Decision tree\n",
      "criterion = entropy\n",
      "max depth = 3\n",
      "acc: 0.76\n"
     ]
    }
   ],
   "source": [
    "tree3 = DecisionTree(max_depth=3, criterion='entropy')\n",
    "tree3.fit(x_train, y_train)\n",
    "inference = tree3.predict(x_test)\n",
    "acc = accuracy(y_test, inference)\n",
    "print(\"Decision tree\")\n",
    "print(f'criterion = {tree3.criterion}')\n",
    "print(f'max depth = {tree3.max_depth}')\n",
    "print(\"acc:\", acc)"
   ]
  },
  {
   "cell_type": "code",
   "execution_count": 328,
   "metadata": {},
   "outputs": [
    {
     "name": "stdout",
     "output_type": "stream",
     "text": [
      "Decision tree\n",
      "criterion = entropy\n",
      "max depth = 10\n",
      "acc: 0.78\n"
     ]
    }
   ],
   "source": [
    "tree10 = DecisionTree(max_depth=10, criterion='entropy')\n",
    "tree10.fit(x_train, y_train)\n",
    "inference = tree10.predict(x_test)\n",
    "acc = accuracy(y_test, inference)\n",
    "print(\"Decision tree\")\n",
    "print(f'criterion = {tree10.criterion}')\n",
    "print(f'max depth = {tree10.max_depth}') \n",
    "print(\"acc:\", acc)"
   ]
  },
  {
   "cell_type": "markdown",
   "metadata": {},
   "source": [
    "## Question 3\n",
    "Plot the [feature importance](https://sefiks.com/2020/04/06/feature-importance-in-decision-trees/) of your Decision Tree model. You can get the feature importance by counting the feature used for splitting data.\n",
    "\n",
    "- You can simply plot the **counts of feature used** for building tree without normalize the importance. Take the figure below as example, outlook feature has been used for splitting for almost 50 times. Therefore, it has the largest importance\n",
    "\n",
    "![image](https://i2.wp.com/sefiks.com/wp-content/uploads/2020/04/c45-fi-results.jpg?w=481&ssl=1)"
   ]
  },
  {
   "cell_type": "code",
   "execution_count": 329,
   "metadata": {},
   "outputs": [
    {
     "data": {
      "image/png": "[encoded data removed]",
      "text/plain": [
       "<Figure size 432x288 with 1 Axes>"
      ]
     },
     "metadata": {},
     "output_type": "display_data"
    }
   ],
   "source": [
    "splitting_data = tree10.feature_values\n",
    "f_index, f_counts = np.unique(splitting_data, return_counts=True)\n",
    "feature_importance = np.zeros(x_train.shape[1])\n",
    "for i, j in enumerate(f_counts):\n",
    "    feature_importance[f_index[i]] = j\n",
    "x_pos = [i for i, _ in enumerate(feature_importance)]\n",
    "\n",
    "plt.title('Feature importance')\n",
    "plt.barh(x_pos, feature_importance)\n",
    "plt.ylabel('feature names')\n",
    "plt.xlabel('counts')\n",
    "plt.xticks(np.arange(max(f_counts)+1))\n",
    "plt.yticks(x_pos, feature_names)\n",
    "plt.gca().grid(axis='x', which='major')\n",
    "plt.tight_layout()\n",
    "plt.show()"
   ]
  },
  {
   "cell_type": "markdown",
   "metadata": {},
   "source": [
    "## Question 4\n",
    "implement the AdaBooest algorithm by using the CART you just implemented from question 2 as base learner. You should implement one arguments for the AdaBooest.\n",
    "1. **n_estimators**: The maximum number of estimators at which boosting is terminated"
   ]
  },
  {
   "cell_type": "code",
   "execution_count": 330,
   "metadata": {},
   "outputs": [],
   "source": [
    "class Adaboost:\n",
    "    def __init__(self, n_estimators=10):\n",
    "        self.n_estimators = n_estimators\n",
    "        self.clfs = []\n",
    "\n",
    "    def fit(self, X, y):\n",
    "        n_samples, n_features = X.shape\n",
    "\n",
    "        # Initialize weights to 1/N\n",
    "        w = np.full(n_samples, (1 / n_samples))\n",
    "\n",
    "        self.clfs = []\n",
    "        # Iterate through classifiers\n",
    "        for _ in range(self.n_estimators):\n",
    "            clf = DecisionTree()\n",
    "            clf.fit(X, y)\n",
    "            min_error = float(\"inf\")\n",
    "            # greedy search to find best threshold and feature\n",
    "            for feature_i in range(n_features):\n",
    "                X_column = X[:, feature_i]\n",
    "                thresholds = np.unique(X_column)\n",
    "\n",
    "                for threshold in thresholds:\n",
    "                    # predict with polarity 1\n",
    "                    p = 1\n",
    "                    predictions = np.ones(n_samples)\n",
    "                    predictions[X_column < threshold] = -1\n",
    "\n",
    "                    # Error = sum of weights of misclassified samples\n",
    "                    misclassified = w[y != predictions]\n",
    "                    error = sum(misclassified)\n",
    "\n",
    "                    if error > 0.5:\n",
    "                        error = 1 - error\n",
    "                        p = -1\n",
    "\n",
    "                    # store the best configuration\n",
    "                    if error < min_error:\n",
    "                        clf.polarity = p\n",
    "                        clf.threshold = threshold\n",
    "                        clf.feature_idx = feature_i\n",
    "                        min_error = error\n",
    "\n",
    "            # calculate alpha\n",
    "            EPS = 1e-10\n",
    "            clf.alpha = 0.5 * np.log((1.0 - min_error + EPS) / (min_error + EPS))\n",
    "\n",
    "            # calculate predictions and update weights\n",
    "            predictions = clf.predict(X)\n",
    "\n",
    "            w *= np.exp(-clf.alpha * y * predictions)\n",
    "            # Normalize to one\n",
    "            w /= np.sum(w)\n",
    "\n",
    "            # Save classifier\n",
    "            self.clfs.append(clf)\n",
    "\n",
    "    def predict(self, X):\n",
    "        clf_preds = [clf.alpha * clf.predict(X) for clf in self.clfs]\n",
    "        y_pred = np.sum(clf_preds, axis=0)\n",
    "        y_pred = np.sign(y_pred)\n",
    "        return y_pred"
   ]
  },
  {
   "cell_type": "markdown",
   "metadata": {},
   "source": [
    "### Question 4.1\n",
    "Show the accuracy score of test data by `n_estimators=10` and `n_estimators=100`, respectively.\n"
   ]
  },
  {
   "cell_type": "code",
   "execution_count": 331,
   "metadata": {},
   "outputs": [
    {
     "name": "stdout",
     "output_type": "stream",
     "text": [
      "n_estimators = 10\n",
      "acc: 0.74\n"
     ]
    }
   ],
   "source": [
    "clf = Adaboost(n_estimators=10)\n",
    "clf.fit(x_train, y_train)\n",
    "y_pred = clf.predict(x_test)\n",
    "acc = accuracy(y_test, y_pred)\n",
    "print(f'n_estimators = {clf.n_estimators}') \n",
    "print(\"acc:\", acc)"
   ]
  },
  {
   "cell_type": "code",
   "execution_count": 332,
   "metadata": {},
   "outputs": [
    {
     "name": "stdout",
     "output_type": "stream",
     "text": [
      "n_estimators = 100\n",
      "acc: 0.74\n"
     ]
    }
   ],
   "source": [
    "clf = Adaboost(n_estimators=100)\n",
    "clf.fit(x_train, y_train)\n",
    "y_pred = clf.predict(x_test)\n",
    "acc = accuracy(y_test, y_pred)\n",
    "print(f'n_estimators = {clf.n_estimators}')\n",
    "print(\"acc:\", acc)"
   ]
  },
  {
   "cell_type": "markdown",
   "metadata": {},
   "source": [
    "## Question 5\n",
    "implement the Random Forest algorithm by using the CART you just implemented from question 2. You should implement three arguments for the Random Forest.\n",
    "\n",
    "1. **n_estimators**: The number of trees in the forest. \n",
    "2. **max_features**: The number of random select features to consider when looking for the best split\n",
    "3. **bootstrap**: Whether bootstrap samples are used when building tree\n"
   ]
  },
  {
   "cell_type": "code",
   "execution_count": 348,
   "metadata": {},
   "outputs": [],
   "source": [
    "class RandomForest:\n",
    "    def __init__(\n",
    "        self, n_estimators, max_depth, max_features, classifier=True, criterion=\"entropy\", boostrap=True,\n",
    "    ):\n",
    "        \"\"\"\n",
    "        An ensemble (forest) of decision trees where each split is calculated\n",
    "        using a random subset of the features in the input.\n",
    "        Parameters\n",
    "        ----------\n",
    "        n_estimators : int\n",
    "            The number of individual decision trees to use within the ensemble.\n",
    "        max_depth: int or None\n",
    "            The depth at which to stop growing each decision tree. If None,\n",
    "            grow each tree until the leaf nodes are pure.\n",
    "        max_features : int\n",
    "            The number of features to sample on each split.\n",
    "        classifier : bool\n",
    "            Whether `Y` contains class labels or real-valued targets. Default\n",
    "            is True.\n",
    "        criterion : {'entropy', 'gini', 'mse'}\n",
    "            The error criterion to use when calculating splits for each weak\n",
    "            learner. When ``classifier = False``, valid entries are {'mse'}.\n",
    "            When ``classifier = True``, valid entries are {'entropy', 'gini'}.\n",
    "            Default is 'entropy'.\n",
    "        \"\"\"\n",
    "        self.trees = []\n",
    "        self.n_estimators = n_estimators\n",
    "        self.max_features = max_features\n",
    "        self.max_depth = max_depth\n",
    "        self.criterion = criterion\n",
    "        self.classifier = classifier\n",
    "        self.boostrap = boostrap\n",
    "\n",
    "    def fit(self, X, Y):\n",
    "        \"\"\"\n",
    "        Create `n_estimators`-worth of bootstrapped samples from the training data\n",
    "        and use each to fit a separate decision tree.\n",
    "        \"\"\"\n",
    "        self.trees = []\n",
    "        for _ in range(self.n_estimators):\n",
    "            if self.boostrap:\n",
    "                X_samp, Y_samp = bootstrap_sample(X, Y)\n",
    "            else:\n",
    "                X_samp, Y_samp = X, Y\n",
    "            tree = DecisionTree(\n",
    "                max_features=self.max_features,\n",
    "                max_depth=self.max_depth,\n",
    "                criterion=self.criterion,\n",
    "                classifier=self.classifier,\n",
    "            )\n",
    "            tree.fit(X_samp, Y_samp)\n",
    "            self.trees.append(tree)\n",
    "\n",
    "    def predict(self, X):\n",
    "        \"\"\"\n",
    "        Predict the target value for each entry in `X`.\n",
    "        Parameters\n",
    "        ----------\n",
    "        X : :py:class:`ndarray <numpy.ndarray>` of shape `(N, M)`\n",
    "            The training data of `N` examples, each with `M` features.\n",
    "        Returns\n",
    "        -------\n",
    "        y_pred : :py:class:`ndarray <numpy.ndarray>` of shape `(N,)`\n",
    "            Model predictions for each entry in `X`.\n",
    "        \"\"\"\n",
    "        tree_preds = np.array([[t._traverse(x, t.root) for x in X] for t in self.trees])\n",
    "        print(\"Random forest\")\n",
    "        print(f'n estimators = {self.n_estimators}')\n",
    "        print(f'max features = {self.max_features}')\n",
    "        print(f'boostrap     = {self.boostrap}')\n",
    "        print(f'criterion    = {self.criterion}')\n",
    "        print(f'max depth    = {self.max_depth}')\n",
    "        return self._vote(tree_preds)\n",
    "\n",
    "    def _vote(self, predictions):\n",
    "        \"\"\"\n",
    "        Return the aggregated prediction across all trees in the RF for each problem.\n",
    "        Parameters\n",
    "        ----------\n",
    "        predictions : :py:class:`ndarray <numpy.ndarray>` of shape `(n_estimators, N)`\n",
    "            The array of predictions from each decision tree in the RF for each\n",
    "            of the `N` problems in `X`.\n",
    "        Returns\n",
    "        -------\n",
    "        y_pred : :py:class:`ndarray <numpy.ndarray>` of shape `(N,)`\n",
    "            If classifier is True, the class label predicted by the majority of\n",
    "            the decision trees for each problem in `X`. If classifier is False,\n",
    "            the average prediction across decision trees on each problem.\n",
    "        \"\"\"\n",
    "        if self.classifier:\n",
    "            out = [np.bincount(x).argmax() for x in predictions.T]\n",
    "        else:\n",
    "            out = [np.mean(x) for x in predictions.T]\n",
    "        return np.array(out)"
   ]
  },
  {
   "cell_type": "markdown",
   "metadata": {},
   "source": [
    "### Question 5.1\n",
    "Using `criterion=gini`, `max_depth=None`, `max_features=sqrt(n_features)`, showing the accuracy score of test data by `n_estimators=10` and `n_estimators=100`, respectively.\n"
   ]
  },
  {
   "cell_type": "markdown",
   "metadata": {},
   "source": [
    "### Question 5.2\n",
    "Using `criterion=gini`, `max_depth=None`, `n_estimators=10`, showing the accuracy score of test data by `max_features=sqrt(n_features)` and `max_features=n_features`, respectively.\n"
   ]
  },
  {
   "cell_type": "markdown",
   "metadata": {},
   "source": [
    "- Note: Use majority votes to get the final prediction, you may get slightly different results when re-building the random forest model"
   ]
  },
  {
   "cell_type": "code",
   "execution_count": 341,
   "metadata": {},
   "outputs": [
    {
     "name": "stdout",
     "output_type": "stream",
     "text": [
      "Random forest\n",
      "n estimators = 10\n",
      "max features = 5\n",
      "boostrap     = True\n",
      "criterion    = gini\n",
      "max depth    = None\n",
      "acc 0.75\n",
      "======================\n"
     ]
    }
   ],
   "source": [
    "rf = RandomForest(\n",
    "                n_estimators=10,\n",
    "                max_depth=None,\n",
    "                max_features=int(np.ceil(np.sqrt(x_train.shape[1]))),\n",
    "                criterion='gini',\n",
    "                boostrap=True\n",
    "            )\n",
    "rf.fit(x_train, y_train)\n",
    "inference = rf.predict(x_test)\n",
    "acc = accuracy(y_test, inference)\n",
    "print(\"acc\", acc)\n",
    "print(\"======================\")"
   ]
  },
  {
   "cell_type": "code",
   "execution_count": 347,
   "metadata": {},
   "outputs": [
    {
     "name": "stdout",
     "output_type": "stream",
     "text": [
      "Random forest\n",
      "n estimators = 100\n",
      "max features = 5\n",
      "boostrap     = True\n",
      "criterion    = gini\n",
      "max depth    = None\n",
      "acc 0.79\n",
      "======================\n"
     ]
    }
   ],
   "source": [
    "rf = RandomForest(\n",
    "               n_estimators=100,\n",
    "               max_depth=None,\n",
    "               max_features=int(np.ceil(np.sqrt(x_train.shape[1]))),\n",
    "               criterion='gini',\n",
    "               boostrap=True\n",
    "           )\n",
    "rf.fit(x_train, y_train)\n",
    "inference = rf.predict(x_test)\n",
    "acc = accuracy(y_test, inference)\n",
    "print(\"acc\", acc)\n",
    "print(\"======================\")"
   ]
  },
  {
   "cell_type": "code",
   "execution_count": 355,
   "metadata": {},
   "outputs": [
    {
     "name": "stdout",
     "output_type": "stream",
     "text": [
      "Random forest\n",
      "n estimators = 10\n",
      "max features = 5\n",
      "boostrap     = True\n",
      "criterion    = gini\n",
      "max depth    = None\n",
      "acc 0.79\n",
      "======================\n"
     ]
    }
   ],
   "source": [
    "rf = RandomForest(\n",
    "                n_estimators=10,\n",
    "                max_depth=None,\n",
    "                max_features=int(np.ceil(np.sqrt(x_train.shape[1]))),\n",
    "                criterion='gini',\n",
    "                boostrap=True\n",
    "            )\n",
    "rf.fit(x_train, y_train)\n",
    "inference = rf.predict(x_test)\n",
    "acc = accuracy(y_test, inference)\n",
    "print(\"acc\", acc)\n",
    "print(\"======================\")"
   ]
  },
  {
   "cell_type": "code",
   "execution_count": 356,
   "metadata": {},
   "outputs": [
    {
     "name": "stdout",
     "output_type": "stream",
     "text": [
      "Random forest\n",
      "n estimators = 10\n",
      "max features = 17\n",
      "boostrap     = True\n",
      "criterion    = gini\n",
      "max depth    = None\n",
      "acc 0.74\n",
      "======================\n"
     ]
    }
   ],
   "source": [
    "rf = RandomForest(\n",
    "                n_estimators=10,\n",
    "                max_depth=None,\n",
    "                max_features=x_train.shape[1],\n",
    "                criterion='gini',\n",
    "                boostrap=True\n",
    "            )\n",
    "rf.fit(x_train, y_train)\n",
    "inference = rf.predict(x_test)\n",
    "acc = accuracy(y_test, inference)\n",
    "print(\"acc\", acc)\n",
    "print(\"======================\")"
   ]
  },
  {
   "cell_type": "markdown",
   "metadata": {},
   "source": [
    "### Question 6.\n",
    "Try you best to get highest test accuracy score by \n",
    "- Feature engineering\n",
    "- Hyperparameter tuning\n",
    "- Implement any other ensemble methods, such as gradient boosting. Please note that you cannot call any package. Also, only ensemble method can be used. Neural network method is not allowed to used."
   ]
  },
  {
   "cell_type": "code",
   "execution_count": 357,
   "metadata": {},
   "outputs": [],
   "source": [
    "from sklearn.metrics import accuracy_score"
   ]
  },
  {
   "cell_type": "code",
   "execution_count": 474,
   "metadata": {
    "scrolled": true
   },
   "outputs": [
    {
     "name": "stdout",
     "output_type": "stream",
     "text": [
      "Random forest\n",
      "n estimators = 10\n",
      "max features = 17\n",
      "boostrap     = True\n",
      "criterion    = gini\n",
      "max depth    = None\n",
      "Test-set accuarcy score:  0.8\n",
      "Test-set accuarcy score:  0.85\n"
     ]
    }
   ],
   "source": [
    "rf = RandomForest(\n",
    "                n_estimators=10,\n",
    "                max_depth=None,\n",
    "                max_features=x_train.shape[1],\n",
    "                criterion='gini',\n",
    "                boostrap=True\n",
    "            )\n",
    "rf.fit(x_train, y_train)\n",
    "inference = rf.predict(x_test)\n",
    "print('Test-set accuarcy score: ', accuracy_score(y_test, inference))"
   ]
  },
  {
   "cell_type": "markdown",
   "metadata": {},
   "source": [
    "## Supplementary\n",
    "If you have trouble to implement this homework, TA strongly recommend watching [this video](https://www.youtube.com/watch?v=LDRbO9a6XPU), which explains Decision Tree model clearly. But don't copy code from any resources, try to finish this homework by yourself! "
   ]
  },
  {
   "cell_type": "markdown",
   "metadata": {},
   "source": [
    "# Result:\n",
    "## Decision Tree\n",
    "* Decision trees are easy to understand and interpret, can be visually analyzed, and rules can be easily extracted.\n",
    "* Can handle both nominal and numerical data.\n",
    "* It's better suited to handle samples with missing attributes.\n",
    "* Decision Tree is ability to handle irrelevant features.\n",
    "* Relatively fast running speed when testing datasets.\n",
    "* It can produce feasible and effective results for large data sources in a relatively short period of time.\n",
    "\n",
    "## Adaboost\n",
    "* Adaboost is good use of weak classifiers for cascading.\n",
    "* The possibility of using different classification algorithms as weak classifiers.\n",
    "* The high accuracy of AdaBoost.\n",
    "* The weights of each classifier fully considered by AdaBoost compared to the bagging algorithm and Random Forest algorithm.\n",
    "\n",
    "## Random forest\n",
    "* The underlying algorithm of the random forest is based on the CART algorithm, so it can handle both categorical and continuous data.\n",
    "* For most of the data, the random forest algorithm has a high accuracy of the proposed results.\n",
    "* It accepts high-dimensional feature data."
   ]
  },
  {
   "cell_type": "code",
   "execution_count": null,
   "metadata": {},
   "outputs": [],
   "source": []
  }
 ],
 "metadata": {
  "kernelspec": {
   "display_name": "Python 3",
   "language": "python",
   "name": "python3"
  },
  "language_info": {
   "codemirror_mode": {
    "name": "ipython",
    "version": 3
   },
   "file_extension": ".py",
   "mimetype": "text/x-python",
   "name": "python",
   "nbconvert_exporter": "python",
   "pygments_lexer": "ipython3",
   "version": "3.7.0"
  }
 },
 "nbformat": 4,
 "nbformat_minor": 4
}
